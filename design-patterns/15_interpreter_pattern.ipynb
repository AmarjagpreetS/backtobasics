{
 "cells": [
  {
   "cell_type": "markdown",
   "metadata": {},
   "source": [
    "In computer programming, the interpreter pattern is a design pattern that specifies <b> how to evaluate sentences in a language </b>. The basic idea is to have a class for each symbol (terminal or nonterminal) in a specialized computer language. The syntax tree of a sentence in the language is an instance of the composite pattern and is used to evaluate (interpret) the sentence for a client\n",
    "\n",
    "### source - https://en.wikipedia.org/wiki/Interpreter_pattern"
   ]
  },
  {
   "cell_type": "markdown",
   "metadata": {},
   "source": [
    "* <b>Uses</b>\n",
    " - Specialized database query languages such as SQL.\n",
    " - Specialized computer languages that are often used to describe communication protocols.\n",
    " - Most general-purpose computer languages actually incorporate several specialized languages."
   ]
  },
  {
   "cell_type": "markdown",
   "metadata": {},
   "source": [
    "## Class Diagram\n",
    "![Class Diagram](http://www.goprod.bouhours.net/images/patterns/en/41992565150af956e41e90.svg)"
   ]
  },
  {
   "cell_type": "markdown",
   "metadata": {},
   "source": [
    "### Design components\n",
    "\n",
    "* **AbstractExpression (Expression)**: Declares an interpret() operation that all nodes (terminal and nonterminal) in the AST overrides.\n",
    "* **TerminalExpression (NumberExpression)**: Implements the interpret() operation for terminal expressions.\n",
    "* **NonterminalExpression (AdditionExpression, SubtractionExpression, and MultiplicationExpression)**: Implements the interpret() operation for all nonterminal expressions.\n",
    "* **Context (String)**: Contains information that is global to the interpreter. It is this String expression with the Postfix notation that has to be interpreted and parsed.\n",
    "* **Client (ExpressionParser)**: Builds (or is provided) the AST assembled from TerminalExpression and NonTerminalExpression. The Client invokes the interpret() operation."
   ]
  },
  {
   "attachments": {},
   "cell_type": "markdown",
   "metadata": {},
   "source": [
    "### Example \n",
    "\n",
    "Context = “Select ```COLUMN``` from ```TABLE``` where ```CONDITION```”"
   ]
  },
  {
   "cell_type": "code",
   "execution_count": null,
   "metadata": {
    "collapsed": true
   },
   "outputs": [],
   "source": []
  },
  {
   "cell_type": "code",
   "execution_count": 2,
   "metadata": {
    "collapsed": true
   },
   "outputs": [],
   "source": [
    "## Abstract Expression\n",
    "from abc import ABCMeta, abstractstaticmethod\n",
    "\n",
    "\n",
    "class Expression(metaclass=ABCMeta):\n",
    "    @abstractstaticmethod\n",
    "    def interpret(self, ctx):\n",
    "            pass\n",
    "        \n",
    "class Where(Expression):\n",
    "    __filter__ = None\n",
    "\n",
    "    def __init__(self, _filter):\n",
    "        self.__filter__ = _filter\n",
    "\n",
    "    def interpret(self, ctx):\n",
    "        ctx.set_filter(self.__filter__)\n",
    "        return ctx.search()\n",
    "    \n",
    "\n",
    "class From(Expression):\n",
    "    __table__ = None\n",
    "    __where__ = None\n",
    "    \n",
    "    def __init__(self, table, where:Where=None):\n",
    "        self.__table__ = table\n",
    "        self.__where__ = where\n",
    "\n",
    "    def interpret(self, ctx): \n",
    "        ctx.set_table(self.__table__)\n",
    "        if (self.__where__ == None):\n",
    "            return ctx.search()\n",
    "        \n",
    "        return self.__where__.interpret(ctx)\n",
    "    \n",
    "        \n",
    "class Select(Expression):\n",
    "    __column__ = None\n",
    "    __from__  = None\n",
    "\n",
    "    def __init__(self, column, _from: From):\n",
    "        self.__column__ = column\n",
    "        self.__from__ = _from\n",
    "\n",
    "    def interpret(self, ctx):\n",
    "        ctx.set_column(self.__column__)\n",
    "        return self.__from__.interpret(ctx)\n"
   ]
  },
  {
   "cell_type": "code",
   "execution_count": 3,
   "metadata": {
    "collapsed": true
   },
   "outputs": [],
   "source": [
    "class Context():\n",
    "    tables = dict()\n",
    "    data = list()\n",
    "    data.append((\"John\", \"Doe\"))\n",
    "    data.append((\"Jan\", \"Kowalski\"))\n",
    "    data.append((\"Dominic\", \"Doom\"))\n",
    "\n",
    "    tables[\"people\"] = data\n",
    "\n",
    "    colIndex = -1;\n",
    "    whereFilter = None\n",
    "    matchAnyString = lambda s : len(s[0]) > 0\n",
    "    \n",
    "    def set_filter(self, _filter):\n",
    "        self.whereFilter = _filter\n",
    "    \n",
    "    def set_column(self, column):\n",
    "        self.columns = self.column_mapper(column)\n",
    "    \n",
    "    def set_table(self,table):\n",
    "        self.table = table\n",
    "    \n",
    "    def column_mapper(self, column):\n",
    "        column_map = [\"name\",\"surname\", \"*\"]\n",
    "        return column_map.index(column) \n",
    "\n",
    "    def clear(self):\n",
    "        column = \"\"\n",
    "        self.whereFilter = self.matchAnyString\n",
    "\n",
    "    def search(self):\n",
    "        if(self.whereFilter == None ):\n",
    "            return [row[self.columns] for row in self.tables[self.table]]\n",
    "        \n",
    "        if self.columns == 2:\n",
    "            return [row for row in self.tables[self.table]]\n",
    "            \n",
    "        result = [row[self.columns] for row in self.tables[self.table] if self.whereFilter(row[self.columns])]\n",
    "        \n",
    "        self.clear()\n",
    "\n",
    "        return result"
   ]
  },
  {
   "cell_type": "code",
   "execution_count": 5,
   "metadata": {},
   "outputs": [
    {
     "name": "stdout",
     "output_type": "stream",
     "text": [
      "['John', 'Jan', 'Dominic']\n",
      "['John', 'Jan']\n",
      "[('John', 'Doe'), ('Jan', 'Kowalski'), ('Dominic', 'Doom')]\n"
     ]
    }
   ],
   "source": [
    "query = Select(\"name\", From(\"people\"))\n",
    "ctx = Context()\n",
    "result = query.interpret(ctx)\n",
    "print(result)\n",
    "\n",
    "query3 = Select(\"name\", From(\"people\", Where(lambda name : name.lower().startswith(\"j\"))))\n",
    "result3 = query3.interpret(ctx)\n",
    "print(result3)\n",
    "\n",
    "query2 = Select(\"*\", From(\"people\"))\n",
    "result2 = query2.interpret(ctx)\n",
    "print(result2)"
   ]
  }
 ],
 "metadata": {
  "kernelspec": {
   "display_name": "Python 3",
   "language": "python",
   "name": "python3"
  },
  "language_info": {
   "codemirror_mode": {
    "name": "ipython",
    "version": 3
   },
   "file_extension": ".py",
   "mimetype": "text/x-python",
   "name": "python",
   "nbconvert_exporter": "python",
   "pygments_lexer": "ipython3",
   "version": "3.5.4"
  }
 },
 "nbformat": 4,
 "nbformat_minor": 2
}
