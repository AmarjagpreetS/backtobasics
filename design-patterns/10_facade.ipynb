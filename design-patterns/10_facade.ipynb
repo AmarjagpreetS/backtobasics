{
 "cells": [
  {
   "cell_type": "markdown",
   "metadata": {
    "slideshow": {
     "slide_type": "-"
    }
   },
   "source": [
    "# Facade Pattern\n",
    "\n",
    "![title](Pictures/facade1.png)\n"
   ]
  },
  {
   "cell_type": "markdown",
   "metadata": {
    "slideshow": {
     "slide_type": "-"
    }
   },
   "source": [
    "# Structure\n",
    "\n",
    "![title](Pictures/facade2.png)\n"
   ]
  },
  {
   "cell_type": "markdown",
   "metadata": {
    "slideshow": {
     "slide_type": "-"
    }
   },
   "source": [
    "# Example Design\n",
    "\n",
    "![title](Pictures/facade3.png)\n"
   ]
  },
  {
   "cell_type": "code",
   "execution_count": 1,
   "metadata": {},
   "outputs": [],
   "source": [
    "import urllib.request\n",
    "import urllib.parse\n",
    "from datetime import datetime\n",
    "import json\n"
   ]
  },
  {
   "cell_type": "code",
   "execution_count": 2,
   "metadata": {},
   "outputs": [],
   "source": [
    "class WeatherProvider(object):\n",
    "    def __init__(self):\n",
    "        self.api_url = 'http://api.openweathermap.org/data/2.5/forecast?q={},{}&appid=fbd503de704f3849f1b7edb3276b923c'\n",
    "    def get_weather_data(self, city, country):\n",
    "        city = urllib.parse.quote(city)\n",
    "        url = self.api_url.format(city, country)\n",
    "        return urllib.request.urlopen(url).read()\n"
   ]
  },
  {
   "cell_type": "code",
   "execution_count": 3,
   "metadata": {},
   "outputs": [],
   "source": [
    "class Parser(object):\n",
    "    def parse_weather_data(self, weather_data):\n",
    "        parsed = json.loads(weather_data)\n",
    "        start_date = None\n",
    "        result = []\n",
    "        for data in parsed['list']:\n",
    "            date = datetime.strptime(data['dt_txt'], '%Y-%m-%d %H:%M:%S')\n",
    "            start_date = start_date or date\n",
    "            if start_date.day != date.day:\n",
    "                return result\n",
    "            result.append(data['main']['temp'])"
   ]
  },
  {
   "cell_type": "code",
   "execution_count": 4,
   "metadata": {},
   "outputs": [],
   "source": [
    "class Weather(object):\n",
    "    def __init__(self, data):\n",
    "        result = 0\n",
    "        for r in data:\n",
    "            result += r\n",
    "        self.temperature = result / len(data)\n"
   ]
  },
  {
   "cell_type": "code",
   "execution_count": 5,
   "metadata": {},
   "outputs": [],
   "source": [
    "class Converter(object):\n",
    "    def from_kelvin_to_celcius(self, kelvin):\n",
    "        return kelvin - 273.15"
   ]
  },
  {
   "cell_type": "code",
   "execution_count": 13,
   "metadata": {},
   "outputs": [
    {
     "name": "stdout",
     "output_type": "stream",
     "text": [
      "303.6121666666667\n"
     ]
    },
    {
     "data": {
      "text/plain": [
       "30.462166666666747"
      ]
     },
     "execution_count": 13,
     "metadata": {},
     "output_type": "execute_result"
    }
   ],
   "source": [
    "W = WeatherProvider()\n",
    "w_data = W.get_weather_data('Pune', 'India')\n",
    "P = Parser()\n",
    "p_data = P.parse_weather_data(w_data)\n",
    "W = Weather(p_data)\n",
    "C = Converter()\n",
    "c_data = C.from_kelvin_to_celcius(W.temperature)\n",
    "print(c_data)\n",
    "\n",
    "\n"
   ]
  },
  {
   "cell_type": "code",
   "execution_count": null,
   "metadata": {},
   "outputs": [],
   "source": [
    "class Facade():\n",
    "    def get_forecast(self, city, country):\n",
    "        W = WeatherProvider()\n",
    "        w_data = W.get_weather_data(city, country)\n",
    "        P = Parser()\n",
    "        p_data = P.parse_weather_data(w_data)\n",
    "\n",
    "        W = Weather(p_data)\n",
    "        print(W.temperature)\n",
    "        C = Converter()\n",
    "        c_data = C.from_kelvin_to_celcius(W.temperature)\n",
    "        return c_data\n",
    "Facade().get_forecast('Pune', 'India')\n"
   ]
  }
 ],
 "metadata": {
  "kernelspec": {
   "display_name": "Python 3",
   "language": "python",
   "name": "python3"
  },
  "language_info": {
   "codemirror_mode": {
    "name": "ipython",
    "version": 3
   },
   "file_extension": ".py",
   "mimetype": "text/x-python",
   "name": "python",
   "nbconvert_exporter": "python",
   "pygments_lexer": "ipython3",
   "version": "3.6.7"
  }
 },
 "nbformat": 4,
 "nbformat_minor": 2
}
