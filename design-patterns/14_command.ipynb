{
 "cells": [
  {
   "cell_type": "markdown",
   "metadata": {},
   "source": [
    "# Command Design Pattern\n"
   ]
  },
  {
   "cell_type": "markdown",
   "metadata": {},
   "source": [
    "\n",
    "## The Command Pattern encapsulates a request as an object, thereby letting you parameterize other objects\n",
    "## with different requests, queue or log requests, and support undoable operations.\n",
    "\n",
    "![title](https://i.imgur.com/2FzqtVF.png)\n",
    "\n"
   ]
  },
  {
   "cell_type": "markdown",
   "metadata": {},
   "source": [
    "## Structure \n",
    "\n",
    "![title](https://i.imgur.com/Q7wwipC.jpg)"
   ]
  },
  {
   "cell_type": "markdown",
   "metadata": {},
   "source": [
    "## Home Automation Remote Control\n",
    "![title](https://i.imgur.com/LSPEWfh.png)"
   ]
  },
  {
   "cell_type": "markdown",
   "metadata": {},
   "source": [
    "## Vendor Classes\n",
    "![title](https://i.imgur.com/b0LZ8J0.png)"
   ]
  },
  {
   "cell_type": "markdown",
   "metadata": {},
   "source": [
    "## Diner Example\n",
    "\n",
    "![title](https://i.imgur.com/L3eMbxB.png)"
   ]
  },
  {
   "cell_type": "markdown",
   "metadata": {},
   "source": [
    "## Diner Example with methods\n",
    "\n",
    "![title](https://i.imgur.com/XWDjApC.png)"
   ]
  },
  {
   "cell_type": "markdown",
   "metadata": {},
   "source": [
    "## Diner to Command Pattern\n",
    "\n",
    "![title](https://i.imgur.com/z7UcIya.png)"
   ]
  },
  {
   "cell_type": "markdown",
   "metadata": {},
   "source": [
    "## Quiz\n",
    "\n",
    "![title](https://i.imgur.com/uyi9mpx.png)"
   ]
  },
  {
   "cell_type": "code",
   "execution_count": 2,
   "metadata": {},
   "outputs": [],
   "source": [
    "import abc\n",
    "\n",
    "class Command(metaclass=abc.ABCMeta):\n",
    "    \"\"\"\n",
    "    The command interface that declares a method (execute) for a particular\n",
    "    action.\n",
    "    \"\"\"\n",
    "    @abc.abstractmethod\n",
    "    def execute(self):\n",
    "        pass\n",
    "\n",
    "\n",
    "class Sandwich:\n",
    "    \"\"\"\n",
    "    The receiver class, which holds the specific method to be called to\n",
    "    perform the specific action.\n",
    "    This will be called by the Invoker object.\n",
    "    \"\"\"\n",
    "\n",
    "    def make_sandwich(self):\n",
    "        print(\"A sandwich is being made\")\n",
    "\n",
    "\n",
    "class Salad:\n",
    "    \"\"\"\n",
    "    The receiver class, which holds the specific method to be called.\n",
    "    This will be called by the Invoker object.\n",
    "    \"\"\"\n",
    "\n",
    "    def make_salad(self):\n",
    "        print(\"A salad is being made\")\n",
    "\n",
    "\n",
    "class Taco:\n",
    "    \"\"\"\n",
    "    The receiver class, which holds the specific method to be called.\n",
    "    This will be called by the Invoker object.\n",
    "    \"\"\"\n",
    "\n",
    "    def make_taco(self):\n",
    "        print(\"A taco is being made\")\n",
    "\n",
    "\n",
    "class SandwichCommand(Command):\n",
    "    \"\"\"\n",
    "    A concrete / specific Command class, implementing exectue()\n",
    "    which calls a specific or an appropriate action of a method\n",
    "    from a Receiver class.\n",
    "    Args:\n",
    "        lunch (Lunch): Receiver class to be attached to the command\n",
    "    \"\"\"\n",
    "\n",
    "    def __init__(self, sandwich: Sandwich):\n",
    "        self._sandwich = sandwich\n",
    "\n",
    "    def execute(self):\n",
    "        self._sandwich.make_sandwich()\n",
    "\n",
    "\n",
    "class SaladCommand(Command):\n",
    "    def __init__(self, salad: Salad):\n",
    "        self._salad = salad\n",
    "\n",
    "    def execute(self):\n",
    "        self._salad.make_salad()\n",
    "\n",
    "\n",
    "class TacoCommand(Command):\n",
    "    def __init__(self, taco: Taco):\n",
    "        self._taco = taco\n",
    "\n",
    "    def execute(self):\n",
    "        self._taco.make_taco()\n",
    "\n",
    "\n",
    "class MealInvoker:\n",
    "    \"\"\"\n",
    "    Has a reference to the Command, and can execute the method.\n",
    "    Notice how the command.execute() is never directly called,\n",
    "    but always through the invoker.\n",
    "    The action invoked is decoupled from the action performed\n",
    "    by the Receiver.\n",
    "    The Invoker (self) invokes a Command (LunchCommand),\n",
    "    and the Command executes the appropriate action (command.execute())\n",
    "    \"\"\"\n",
    "\n",
    "    def __init__(self, command: Command):\n",
    "        self._command = command\n",
    "        self._command_list = []  # type: List[Command]\n",
    "\n",
    "    def set_command(self, command: Command):\n",
    "        self.command = command\n",
    "\n",
    "    def get_command(self):\n",
    "        print(self.command.__class__.__name__)\n",
    "\n",
    "    def add_command_to_list(self, command: Command):\n",
    "        self._command_list.append(command)\n",
    "\n",
    "    def execute_commands(self):\n",
    "        \"\"\"\n",
    "        Execute all the saved commands, then empty the list.\n",
    "        \"\"\"\n",
    "        for cmd in self._command_list:\n",
    "            cmd.execute()\n",
    "\n",
    "        self._command_list.clear()\n",
    "\n",
    "    def invoke(self):\n",
    "        self._command.execute()"
   ]
  },
  {
   "cell_type": "code",
   "execution_count": 3,
   "metadata": {},
   "outputs": [
    {
     "name": "stdout",
     "output_type": "stream",
     "text": [
      "A sandwich is being made\n",
      "A salad is being made\n",
      "A sandwich is being made\n",
      "A salad is being made\n"
     ]
    }
   ],
   "source": [
    "# Command pattern in action\n",
    "sandwich = Sandwich()# receiver\n",
    "\n",
    "\n",
    "command_sandwich = SandwichCommand(sandwich)  # concrete command\n",
    "salad = Salad()  # receiver\n",
    "command_salad = SaladCommand(salad)  # concrete command\n",
    "meal_invoker = MealInvoker(command_sandwich)  # invoker\n",
    "meal_invoker.invoke() # Starting the method calls\n",
    "meal_invoker.add_command_to_list(command_salad)\n",
    "meal_invoker.add_command_to_list(command_sandwich)\n",
    "meal_invoker.add_command_to_list(command_salad)\n",
    "meal_invoker.execute_commands()\n",
    "meal"
   ]
  },
  {
   "cell_type": "code",
   "execution_count": null,
   "metadata": {},
   "outputs": [],
   "source": []
  }
 ],
 "metadata": {
  "kernelspec": {
   "display_name": "Python 3",
   "language": "python",
   "name": "python3"
  },
  "language_info": {
   "codemirror_mode": {
    "name": "ipython",
    "version": 3
   },
   "file_extension": ".py",
   "mimetype": "text/x-python",
   "name": "python",
   "nbconvert_exporter": "python",
   "pygments_lexer": "ipython3",
   "version": "3.6.8"
  }
 },
 "nbformat": 4,
 "nbformat_minor": 2
}
