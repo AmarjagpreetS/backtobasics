{
 "cells": [
  {
   "cell_type": "markdown",
   "metadata": {},
   "source": [
    "# Notepad\n",
    "\n",
    "__Note:__ Below code has been noticed to throw exceptions, precisely _tk_ exceptions, on jupyter notebook at few executions. Thus, complete _Notepad_ class has been created again in every block as it helps in tackling with the exceptions.\n",
    "\n",
    "Below a class, _Notepad_, is provided with two callbacks, _on_closing_ and _input_character_."
   ]
  },
  {
   "cell_type": "code",
   "execution_count": 1,
   "metadata": {},
   "outputs": [
    {
     "name": "stdout",
     "output_type": "stream",
     "text": [
      "input character : h\n",
      "input character : e\n",
      "input character : l\n",
      "input character : l\n",
      "input character : o\n",
      "Closing...\n"
     ]
    }
   ],
   "source": [
    "import tkinter as tk\n",
    "from tkinter.filedialog import (\n",
    "    Text,\n",
    "    Scrollbar,\n",
    "    N,\n",
    "    E,\n",
    "    S,\n",
    "    W,\n",
    "    Y,\n",
    "    RIGHT\n",
    ")\n",
    "\n",
    "\n",
    "class Notepad:\n",
    "    __root = tk.Tk()\n",
    "\n",
    "    # default window width and height\n",
    "    __thisWidth = 300\n",
    "    __thisHeight = 300\n",
    "    __thisTextArea = Text(__root)\n",
    "\n",
    "    # To add scrollbar\n",
    "    __thisScrollBar = Scrollbar(__thisTextArea)\n",
    "    __file = None\n",
    "\n",
    "    def __init__(self, **kwargs):\n",
    "\n",
    "        # Set window size (the default is 300x300)\n",
    "\n",
    "        try:\n",
    "            self.__thisWidth = kwargs[\"width\"]\n",
    "        except KeyError:\n",
    "            pass\n",
    "\n",
    "        try:\n",
    "            self.__thisHeight = kwargs[\"height\"]\n",
    "        except KeyError:\n",
    "            pass\n",
    "\n",
    "        # Set the window text\n",
    "        self.__root.title(\"Demo\")\n",
    "\n",
    "        # Center the window\n",
    "        screen_width = self.__root.winfo_screenwidth()\n",
    "        screen_height = self.__root.winfo_screenheight()\n",
    "\n",
    "        # For left-align\n",
    "        left = (screen_width / 2) - (self.__thisWidth / 2)\n",
    "\n",
    "        # For right-align\n",
    "        top = (screen_height / 2) - (self.__thisHeight / 2)\n",
    "\n",
    "        # For top and bottom\n",
    "        self.__root.geometry(\n",
    "            \"%dx%d+%d+%d\" % (self.__thisWidth, self.__thisHeight, left, top)\n",
    "        )\n",
    "\n",
    "        # To make the text area auto resizable\n",
    "        self.__root.grid_rowconfigure(0, weight=1)\n",
    "        self.__root.grid_columnconfigure(0, weight=1)\n",
    "\n",
    "        self.__thisTextArea.grid(sticky=N + E + S + W)\n",
    "        self.__thisTextArea.bind(\"<KeyRelease>\", self._input_character)\n",
    "\n",
    "        self.__thisScrollBar.pack(side=RIGHT, fill=Y)\n",
    "\n",
    "        # Scrollbar will adjust automatically according to the content\n",
    "        self.__thisScrollBar.config(command=self.__thisTextArea.yview)\n",
    "        self.__thisTextArea.config(yscrollcommand=self.__thisScrollBar.set)\n",
    "\n",
    "    def run(self):\n",
    "        self.__root.protocol(\"WM_DELETE_WINDOW\", self._on_closing)\n",
    "        self.__root.mainloop()\n",
    "\n",
    "    def _input_character(self, event):\n",
    "        print(f'input character : {str(event.char)}')\n",
    "\n",
    "    def _on_closing(self):\n",
    "        print(\"Closing...\")\n",
    "        self.__root.destroy()\n",
    "\n",
    "    \n",
    "if __name__ == \"__main__\":    \n",
    "    notepad = Notepad(width=600, height=400)\n",
    "    notepad.run()\n"
   ]
  },
  {
   "cell_type": "markdown",
   "metadata": {},
   "source": [
    "Now, we have been provided with _Character_ class. We need to create objects of _Character_ class for every input and at the time of close save them."
   ]
  },
  {
   "cell_type": "code",
   "execution_count": 3,
   "metadata": {},
   "outputs": [],
   "source": [
    "class Character:\n",
    "\n",
    "    def __init__(self, char):\n",
    "        self.name = char.lower()\n",
    "        self.font = \"Times New Roman\"\n",
    "        self.size = 14\n"
   ]
  },
  {
   "cell_type": "code",
   "execution_count": 4,
   "metadata": {},
   "outputs": [
    {
     "name": "stdout",
     "output_type": "stream",
     "text": [
      "input character : h\n",
      "input character : e\n",
      "input character : l\n",
      "input character : l\n",
      "input character : o\n",
      "Number of different objects created : 5\n",
      "Closing...\n"
     ]
    }
   ],
   "source": [
    "import tkinter as tk\n",
    "from tkinter.filedialog import (\n",
    "    Text,\n",
    "    Scrollbar,\n",
    "    N,\n",
    "    E,\n",
    "    S,\n",
    "    W,\n",
    "    Y,\n",
    "    RIGHT\n",
    ")\n",
    "\n",
    "\n",
    "class Notepad:\n",
    "    __root = tk.Tk()\n",
    "\n",
    "    # default window width and height\n",
    "    __thisWidth = 300\n",
    "    __thisHeight = 300\n",
    "    __thisTextArea = Text(__root)\n",
    "\n",
    "    # To add scrollbar\n",
    "    __thisScrollBar = Scrollbar(__thisTextArea)\n",
    "    __file = None\n",
    "    content = []\n",
    "\n",
    "    def __init__(self, **kwargs):\n",
    "\n",
    "        # Set window size (the default is 300x300)\n",
    "\n",
    "        try:\n",
    "            self.__thisWidth = kwargs[\"width\"]\n",
    "        except KeyError:\n",
    "            pass\n",
    "\n",
    "        try:\n",
    "            self.__thisHeight = kwargs[\"height\"]\n",
    "        except KeyError:\n",
    "            pass\n",
    "\n",
    "        # Set the window text\n",
    "        self.__root.title(\"Demo\")\n",
    "\n",
    "        # Center the window\n",
    "        screen_width = self.__root.winfo_screenwidth()\n",
    "        screen_height = self.__root.winfo_screenheight()\n",
    "\n",
    "        # For left-align\n",
    "        left = (screen_width / 2) - (self.__thisWidth / 2)\n",
    "\n",
    "        # For right-align\n",
    "        top = (screen_height / 2) - (self.__thisHeight / 2)\n",
    "\n",
    "        # For top and bottom\n",
    "        self.__root.geometry(\n",
    "            \"%dx%d+%d+%d\" % (self.__thisWidth, self.__thisHeight, left, top)\n",
    "        )\n",
    "\n",
    "        # To make the text area auto resizable\n",
    "        self.__root.grid_rowconfigure(0, weight=1)\n",
    "        self.__root.grid_columnconfigure(0, weight=1)\n",
    "\n",
    "        self.__thisTextArea.grid(sticky=N + E + S + W)\n",
    "        self.__thisTextArea.bind(\"<KeyRelease>\", self._input_character)\n",
    "\n",
    "        self.__thisScrollBar.pack(side=RIGHT, fill=Y)\n",
    "\n",
    "        # Scrollbar will adjust automatically according to the content\n",
    "        self.__thisScrollBar.config(command=self.__thisTextArea.yview)\n",
    "        self.__thisTextArea.config(yscrollcommand=self.__thisScrollBar.set)\n",
    "\n",
    "    def run(self):\n",
    "        self.__root.protocol(\"WM_DELETE_WINDOW\", self._on_closing)\n",
    "        self.__root.mainloop()\n",
    "\n",
    "    def _input_character(self, event):\n",
    "        print(f'input character : {str(event.char)}')\n",
    "        self.content.append(Character(event.char))\n",
    "\n",
    "    def _on_closing(self):\n",
    "        print(f'Number of different objects created : {len(set(self.content))}')\n",
    "        \n",
    "        print(\"Closing...\")\n",
    "        self.__root.destroy()\n",
    "\n",
    "\n",
    "if __name__ == \"__main__\":    \n",
    "    notepad = Notepad(width=600, height=400)\n",
    "    notepad.run()\n"
   ]
  },
  {
   "cell_type": "markdown",
   "metadata": {},
   "source": [
    "Noticed a problem?\n",
    "\n",
    "We are making too many objects. In fact, different objects even for the same character.\n",
    "\n",
    "How can we solve it?\n",
    "\n",
    "Let's see..."
   ]
  },
  {
   "cell_type": "code",
   "execution_count": 5,
   "metadata": {},
   "outputs": [
    {
     "name": "stdout",
     "output_type": "stream",
     "text": [
      "input character : h\n",
      "input character : e\n",
      "input character : l\n",
      "input character : l\n",
      "input character : o\n",
      "Number of different objects created : 4\n",
      "Closing...\n"
     ]
    }
   ],
   "source": [
    "import tkinter as tk\n",
    "from tkinter.filedialog import (\n",
    "    Text,\n",
    "    Scrollbar,\n",
    "    N,\n",
    "    E,\n",
    "    S,\n",
    "    W,\n",
    "    Y,\n",
    "    RIGHT\n",
    ")\n",
    "\n",
    "\n",
    "class Character:\n",
    "\n",
    "    def __init__(self, char):\n",
    "        self.name = char.lower()\n",
    "        self.font = \"Times New Roman\"\n",
    "        self.size = 14\n",
    "\n",
    "\n",
    "class InputCharacter:\n",
    "    fly_weight_objects = {}\n",
    "\n",
    "    def create_character(self, char):\n",
    "        if char not in  self.fly_weight_objects:\n",
    "            self.fly_weight_objects[char] = Character(char)\n",
    "\n",
    "        return self.fly_weight_objects.get(char)\n",
    "\n",
    "\n",
    "class Notepad:\n",
    "    __root = tk.Tk()\n",
    "\n",
    "    # default window width and height\n",
    "    __thisWidth = 300\n",
    "    __thisHeight = 300\n",
    "    __thisTextArea = Text(__root)\n",
    "\n",
    "    # To add scrollbar\n",
    "    __thisScrollBar = Scrollbar(__thisTextArea)\n",
    "    __file = None\n",
    "    content = []\n",
    "\n",
    "    def __init__(self, **kwargs):\n",
    "\n",
    "        # Set window size (the default is 300x300)\n",
    "\n",
    "        try:\n",
    "            self.__thisWidth = kwargs[\"width\"]\n",
    "        except KeyError:\n",
    "            pass\n",
    "\n",
    "        try:\n",
    "            self.__thisHeight = kwargs[\"height\"]\n",
    "        except KeyError:\n",
    "            pass\n",
    "\n",
    "        # Set the window text\n",
    "        self.__root.title(\"Demo\")\n",
    "\n",
    "        # Center the window\n",
    "        screen_width = self.__root.winfo_screenwidth()\n",
    "        screen_height = self.__root.winfo_screenheight()\n",
    "\n",
    "        # For left-align\n",
    "        left = (screen_width / 2) - (self.__thisWidth / 2)\n",
    "\n",
    "        # For right-align\n",
    "        top = (screen_height / 2) - (self.__thisHeight / 2)\n",
    "\n",
    "        # For top and bottom\n",
    "        self.__root.geometry(\n",
    "            \"%dx%d+%d+%d\" % (self.__thisWidth, self.__thisHeight, left, top)\n",
    "        )\n",
    "\n",
    "        # To make the text area auto resizable\n",
    "        self.__root.grid_rowconfigure(0, weight=1)\n",
    "        self.__root.grid_columnconfigure(0, weight=1)\n",
    "\n",
    "        self.__thisTextArea.grid(sticky=N + E + S + W)\n",
    "        self.__thisTextArea.bind(\"<KeyRelease>\", self._input_character)\n",
    "\n",
    "        self.__thisScrollBar.pack(side=RIGHT, fill=Y)\n",
    "\n",
    "        # Scrollbar will adjust automatically according to the content\n",
    "        self.__thisScrollBar.config(command=self.__thisTextArea.yview)\n",
    "        self.__thisTextArea.config(yscrollcommand=self.__thisScrollBar.set)\n",
    "\n",
    "    def _on_closing(self):\n",
    "        print(f'Number of different objects created : {len(set(self.content))}')\n",
    "        \n",
    "        print(\"Closing...\")\n",
    "        self.__root.destroy()\n",
    "\n",
    "    def run(self):\n",
    "        self.__root.protocol(\"WM_DELETE_WINDOW\", self._on_closing)\n",
    "        self.__root.mainloop()\n",
    "\n",
    "    def _input_character(self, event):\n",
    "        print(f'input character : {str(event.char)}')\n",
    "        self.content.append(InputCharacter().create_character(event.char))\n",
    "\n",
    "\n",
    "if __name__ == \"__main__\":\n",
    "    notepad = Notepad(width=600, height=400)\n",
    "    notepad.run()\n"
   ]
  },
  {
   "cell_type": "markdown",
   "metadata": {},
   "source": [
    "So, we created a dictionary to store _Character_ objects and return the same object if already created.\n",
    "\n",
    "In above example, it results in returning the same object for _\"l\"_ and thus total distinct objects are __4__."
   ]
  },
  {
   "cell_type": "markdown",
   "metadata": {},
   "source": [
    "This is what forms the basics of __FlyWeight__ Design Pattern."
   ]
  },
  {
   "cell_type": "markdown",
   "metadata": {},
   "source": [
    "# FlyWeight Design Pattern"
   ]
  },
  {
   "cell_type": "markdown",
   "metadata": {},
   "source": [
    "![image.png](attachment:image.png)"
   ]
  },
  {
   "cell_type": "markdown",
   "metadata": {},
   "source": [
    "## History"
   ]
  },
  {
   "cell_type": "markdown",
   "metadata": {},
   "source": [
    "__FunFact__ : Flyweight is a class in boxing which includes fighters weighing above 49 kg (108 lb) and up to 51 kg (112 lb)\n",
    "\n",
    "According to the textbook __Design Patterns: Elements of Reusable Object-Oriented Software__, the flyweight pattern was first coined and extensively explored by __Paul Calder__ and __Mark Linton__ in __1990__ to efficiently handle glyph information in a __WYSIWYG document editor__."
   ]
  },
  {
   "cell_type": "markdown",
   "metadata": {},
   "source": [
    "## Key Points"
   ]
  },
  {
   "cell_type": "markdown",
   "metadata": {},
   "source": [
    "1. Optimize number of objects which are created\n",
    "2. Decrease memory footprint and increase performance\n",
    "3. Reuse similar kind of objects and create matching object when no matching object is found\n",
    "4. To enable safe sharing, between clients and threads, . The most important feature of the flyweight objects is immutable. This means that they cannot be modified once constructed.\n",
    "5. In Flyweight pattern we use a HashMap that stores reference to the object which have already been created, every object is associated with a key. \n",
    "Now when a client wants to create an object, he simply has to pass a key associated with it and if the object has already been created we simply get the reference to that object else it creates a new object and then returns it reference to the client.\n",
    "6. Flyweight pattern is used when we need to create a large number of similar objects (say 10000). \n",
    "7. Although creating an object in Java is really fast, we can still reduce the execution time of our program by sharing objects."
   ]
  },
  {
   "cell_type": "markdown",
   "metadata": {},
   "source": [
    "## Intrinsic and Extrinsic States"
   ]
  },
  {
   "cell_type": "markdown",
   "metadata": {},
   "source": [
    "1. __Intrinsic state__ is invariant (context independent) and therefore can be shared (for example, the code of character 'A' in a given character set).\n",
    "\n",
    "2. __Extrinsic state__ is variant (context dependent) and therefore can not be shared and must be passed in (for example, the position of character 'A' in a text document)."
   ]
  },
  {
   "cell_type": "markdown",
   "metadata": {},
   "source": [
    "### Notepad example continues\n",
    "\n",
    "Now we add to more attributes to the Character class, they are row and column. \n",
    "They specify the position of a character in the document. \n",
    "Now these attributes will not be similar even for same characters, since no two characters will have the same position in a document, these states are termed as extrinsic states, and they can’t be shared among objects."
   ]
  },
  {
   "cell_type": "markdown",
   "metadata": {},
   "source": [
    "## Psuedo Code"
   ]
  },
  {
   "cell_type": "markdown",
   "metadata": {},
   "source": [
    "![image.png](attachment:image.png)\n"
   ]
  },
  {
   "cell_type": "markdown",
   "metadata": {},
   "source": [
    "The pattern extracts the repeating intrinsic state from a main __Tree__ class and moves it into the flyweight class __TreeType__.\n",
    "\n",
    "Now instead of storing the same data in multiple objects, it’s kept in just a few flyweight objects and linked to appropriate __Tree__ objects which act as contexts. The client code creates new tree objects using the flyweight factory, which encapsulates the complexity of searching for the right object and reusing it if needed."
   ]
  },
  {
   "cell_type": "markdown",
   "metadata": {},
   "source": [
    "## Pros"
   ]
  },
  {
   "cell_type": "markdown",
   "metadata": {},
   "source": [
    "You can save __lots of RAM__, assuming your program has tons of __similar objects__."
   ]
  },
  {
   "cell_type": "markdown",
   "metadata": {},
   "source": [
    "## Cons"
   ]
  },
  {
   "cell_type": "markdown",
   "metadata": {},
   "source": [
    "1. You might be trading RAM over CPU cycles when some of the context data needs to be recalculated each time somebody calls a flyweight method.\n",
    "2. The code becomes much more complicated. New team members will always be wondering why the state of an entity was separated in such a way."
   ]
  }
 ],
 "metadata": {
  "kernelspec": {
   "display_name": "Python 3",
   "language": "python",
   "name": "python3"
  },
  "language_info": {
   "codemirror_mode": {
    "name": "ipython",
    "version": 3
   },
   "file_extension": ".py",
   "mimetype": "text/x-python",
   "name": "python",
   "nbconvert_exporter": "python",
   "pygments_lexer": "ipython3",
   "version": "3.6.7"
  }
 },
 "nbformat": 4,
 "nbformat_minor": 2
}
